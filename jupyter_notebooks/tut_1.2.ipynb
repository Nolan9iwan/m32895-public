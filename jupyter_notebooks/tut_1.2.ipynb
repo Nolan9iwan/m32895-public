{
 "cells": [
  {
   "cell_type": "markdown",
   "metadata": {},
   "source": [
    "# <u>Tut_1.2</u>"
   ]
  },
  {
   "cell_type": "markdown",
   "metadata": {},
   "source": [
    "# Control Flow – Conditional Statements & Loops"
   ]
  },
  {
   "cell_type": "markdown",
   "metadata": {},
   "source": [
    "## Learning outcomes\n",
    "* Setting up Google Colab to work with GitHub\n",
    "* Conditional statements\n",
    "* Comments and code readability\n",
    "* Structure and implementation of `while` loop"
   ]
  },
  {
   "cell_type": "markdown",
   "metadata": {},
   "source": [
    "## Setting up your coding environment\n",
    "* Open Google Colab and create file for today's tutorial"
   ]
  },
  {
   "cell_type": "markdown",
   "metadata": {},
   "source": [
    "---"
   ]
  },
  {
   "cell_type": "markdown",
   "metadata": {},
   "source": [
    "## Warming up\n",
    "1. Print out your name.\n",
    "2. Ask user to enter his/her name and print it out\n",
    "3. Ask yser to enter his/her name and print it out with extra comment \"The user name you entered is: \"\n",
    "4. Ask user to enter radius and calculate and pritnt out area of circle."
   ]
  },
  {
   "cell_type": "markdown",
   "metadata": {},
   "source": [
    "## Conditional statements"
   ]
  },
  {
   "cell_type": "markdown",
   "metadata": {},
   "source": [
    "### <u>if-else (see [tut_1.1](./tuttut_1.1.ipynb))</u>\n"
   ]
  },
  {
   "cell_type": "markdown",
   "metadata": {},
   "source": [
    "### if-elif-else\n"
   ]
  },
  {
   "cell_type": "code",
   "execution_count": null,
   "metadata": {},
   "outputs": [],
   "source": [
    "a = 200\n",
    "b = 33\n",
    "if b > a:\n",
    "\tprint(\"b is greater than a\")\n",
    "elif a == b:\n",
    "  \tprint(\"a and b are equal\")\n",
    "else:\n",
    "  \tprint(\"a is greater than b\")"
   ]
  },
  {
   "cell_type": "markdown",
   "metadata": {},
   "source": [
    "### Exercise 1: Grade Classifier\n",
    "Write a Python program that asks the user to enter a numerical score (0-100). The program should classify the score into a letter grade based on the following criteria and print the result using:\n",
    "\n",
    "* 90-100: A\n",
    "* 80-89: B\n",
    "* 70-79: C\n",
    "60-69: D\n",
    "Below 60: F"
   ]
  },
  {
   "cell_type": "markdown",
   "metadata": {},
   "source": [
    "### Solution"
   ]
  },
  {
   "cell_type": "code",
   "execution_count": null,
   "metadata": {},
   "outputs": [],
   "source": [
    "# Get user input\n",
    "score = int(input(\"Enter your score: \"))\n",
    "\n",
    "# Determine the grade\n",
    "if score >= 90:\n",
    "    grade = \"A\"\n",
    "elif score >= 80:\n",
    "    grade = \"B\"\n",
    "elif score >= 70:\n",
    "    grade = \"C\"\n",
    "elif score >= 60:\n",
    "    grade = \"D\"\n",
    "else:\n",
    "    grade = \"F\"\n",
    "\n",
    "# Print the result\n",
    "print(f\"Your grade is: {grade}\")\n"
   ]
  },
  {
   "cell_type": "markdown",
   "metadata": {},
   "source": [
    "### Exercise 2: Movie Ticket Pricing\n",
    "Write a Python program that asks the user for their age and whether they have a student ID (Yes/No). The program should calculate the ticket price based on the following rules:\n",
    "\n",
    "* Children (under 12 years old) → $5\n",
    "* Seniors (65 and older) → $7\n",
    "* Students (with a student ID, any age) → $8\n",
    "* Regular price → $10"
   ]
  },
  {
   "cell_type": "markdown",
   "metadata": {},
   "source": [
    "###  Solution"
   ]
  },
  {
   "cell_type": "code",
   "execution_count": null,
   "metadata": {},
   "outputs": [],
   "source": [
    "# Ask user for their age\n",
    "age = int(input(\"Enter your age: \"))\n",
    "\n",
    "# Check for special age-based pricing\n",
    "if age < 12:\n",
    "    price = 5\n",
    "elif age >= 65:\n",
    "    price = 7\n",
    "else:\n",
    "    # If not a child or senior, check for student discount\n",
    "    student_id = input(\"Do you have a student ID? (Yes/No): \").strip().lower()\n",
    "    \n",
    "    if student_id == \"yes\":\n",
    "        price = 8\n",
    "    else:\n",
    "        price = 10  # Regular price\n",
    "\n",
    "# Print the ticket price\n",
    "print(f\"Ticket price: ${price}\")\n"
   ]
  },
  {
   "cell_type": "markdown",
   "metadata": {},
   "source": [
    "---"
   ]
  },
  {
   "cell_type": "markdown",
   "metadata": {},
   "source": [
    "## Comments and code readability"
   ]
  },
  {
   "cell_type": "code",
   "execution_count": 2,
   "metadata": {},
   "outputs": [],
   "source": [
    "# Add comments !!informative, but short!! if it is just one line\n",
    "\n",
    "\"\"\"\n",
    "Or\n",
    "if\n",
    "it\n",
    "is\n",
    "longer\n",
    "\"\"\"\n",
    "\n",
    "'''\n",
    "This\n",
    "works\n",
    "too\n",
    "'''\n",
    "def my_function (argument1, argument2):\n",
    "    \"\"\"\n",
    "    Comment what the function does (a couple of lines)\n",
    "    \"\"\"\n",
    "    return None\n"
   ]
  },
  {
   "cell_type": "markdown",
   "metadata": {},
   "source": [
    "---"
   ]
  },
  {
   "cell_type": "markdown",
   "metadata": {},
   "source": [
    "## `while` loop\n",
    "* A code withing the loop is being executed while a certain condition is `True`"
   ]
  },
  {
   "cell_type": "code",
   "execution_count": null,
   "metadata": {},
   "outputs": [],
   "source": [
    "count = 1  # Initialize a variable\n",
    "\n",
    "while count <= 5:  # Loop runs while count is less than or equal to 5\n",
    "    print(f\"Count is: {count}\")  # Print the current count\n",
    "    count += 1  # Increase count by 1 in each iteration; can also be written count = count + 1\n",
    "\n",
    "print(\"Loop finished!\")  # This prints after the loop ends\n",
    "\n",
    "# Note: two print statements have different 'execution context'\n"
   ]
  },
  {
   "cell_type": "markdown",
   "metadata": {},
   "source": [
    "### Exercise 1\n",
    "*Can you think of the simplest `while` loop?"
   ]
  },
  {
   "cell_type": "code",
   "execution_count": null,
   "metadata": {},
   "outputs": [],
   "source": [
    "while True:\n",
    "    ...  # Placeholder"
   ]
  },
  {
   "cell_type": "markdown",
   "metadata": {},
   "source": [
    "---"
   ]
  },
  {
   "cell_type": "markdown",
   "metadata": {},
   "source": [
    "## Home work\n",
    "* [codeanywhere.com](https://codeanywhere.com/)\n",
    "* Study github\n",
    "* Study and learn how to use [markdown](https://docs.github.com/en/get-started/writing-on-github/getting-started-with-writing-and-formatting-on-github/basic-writing-and-formatting-syntax) syntax\n",
    "* Get familiar and fluent with Jupyter notebook\n",
    "* Revise `while` loop structure. Special attention to nested structures"
   ]
  },
  {
   "cell_type": "markdown",
   "metadata": {},
   "source": [
    "### Extra content:\n",
    "[codeanywhere.com](https://codeanywhere.com/)"
   ]
  },
  {
   "cell_type": "code",
   "execution_count": null,
   "metadata": {},
   "outputs": [],
   "source": []
  }
 ],
 "metadata": {
  "kernelspec": {
   "display_name": "venv",
   "language": "python",
   "name": "python3"
  },
  "language_info": {
   "codemirror_mode": {
    "name": "ipython",
    "version": 3
   },
   "file_extension": ".py",
   "mimetype": "text/x-python",
   "name": "python",
   "nbconvert_exporter": "python",
   "pygments_lexer": "ipython3",
   "version": "3.12.8"
  }
 },
 "nbformat": 4,
 "nbformat_minor": 2
}
