{
  "cells": [
    {
      "cell_type": "markdown",
      "metadata": {
        "id": "rJOGHYV0GlMX"
      },
      "source": [
        "# <u>Tut_1.1</u>"
      ]
    },
    {
      "cell_type": "markdown",
      "metadata": {
        "id": "-RHTAUZeGlMY"
      },
      "source": [
        "## Learning outcomes"
      ]
    },
    {
      "cell_type": "markdown",
      "metadata": {
        "id": "I1SC8ddpGlMY"
      },
      "source": [
        "* Understand a high-level structure of the course\n",
        "* Set up and get familiar with coding environment\n",
        "* Learn and understand **absolutely** necessary routines (*commands to be executed before and after each class*)\n",
        "* **markdown** syntax\n",
        "* Reflection on what is 'big data' and why do we need it\n",
        "* Why Python?\n",
        "* Modules, libraries and frameworks\n",
        "* 1<sup>st</sup> look at a python program structure (how it is organised, formatting, reserved words and naming conventions)\n",
        "* DRY principle\n",
        "* Errors\n",
        "* `print()` statement\n"
      ]
    },
    {
      "cell_type": "code",
      "source": [
        "# prompt: write a python code that asks the user for their age and whether they have student ID (yes/no). The program should calculate the ticket price based on the following: *children (under 12 years old) > £5 *senior(65 and older) > £7 *student(with student ID, any age) > £8 *regular price >£10\n",
        "\n",
        "def calculate_ticket_price(age, has_student_id):\n",
        "    \"\"\"Calculates ticket price based on age and student ID.\"\"\"\n",
        "\n",
        "    if age < 12:\n",
        "        price = 5\n",
        "    elif age >= 65:\n",
        "        price = 7\n",
        "    elif has_student_id.lower() == \"yes\":\n",
        "        price = 8\n",
        "    else:\n",
        "        price = 10\n",
        "    return price\n",
        "\n",
        "# ask for student id\n",
        "age = int(input(\"Enter your age: \"))\n",
        "has_student_id = input(\"Do you have a student ID (yes/no)? \")\n",
        "\n",
        "#calc price\n",
        "ticket_price = calculate_ticket_price(age, has_student_id)\n",
        "print(\"Your ticket price is £\", ticket_price)\n"
      ],
      "metadata": {
        "id": "0kVcGZ6vLt4g",
        "outputId": "f3449d20-5706-4151-e7ae-2dd688c235c4",
        "colab": {
          "base_uri": "https://localhost:8080/"
        }
      },
      "execution_count": 33,
      "outputs": [
        {
          "output_type": "stream",
          "name": "stdout",
          "text": [
            "Enter your age: 45\n",
            "Do you have a student ID (yes/no)? no\n",
            "Your ticket price is £ 10\n"
          ]
        }
      ]
    },
    {
      "cell_type": "code",
      "source": [
        "score = float (input(\"enter your numerical score\"))\n",
        "if 90 <= score <= 100:\n",
        "    print(\"A\")\n",
        "elif 80 <= score < 90:\n",
        "    print(\"B\")\n",
        "elif 70 <= score < 80:\n",
        "    print(\"C\")\n",
        "elif 60 <= score < 70:\n",
        "    print(\"D\")\n",
        "score = float(input(\"enter your numerical score\"))\n",
        "if 90 <= score <= 100:\n",
        "    print(\"A\")\n",
        "elif 80 <= score < 90:\n",
        "    print(\"B\")\n",
        "elif 70 <= score < 80:\n",
        "    print(\"C\")\n",
        "elif 60 <= score < 70:\n",
        "    print(\"D\")\n",
        "elif 0 <= score < 60:\n",
        "    print(\"F\")\n",
        "print(f\"your grade is: {score}\")"
      ],
      "metadata": {
        "id": "NXxckhZJMmWY",
        "outputId": "cd820cd4-1bea-4997-f7dc-37cb2d54b32a",
        "colab": {
          "base_uri": "https://localhost:8080/"
        }
      },
      "execution_count": 20,
      "outputs": [
        {
          "output_type": "stream",
          "name": "stdout",
          "text": [
            "enter your numerical score56\n",
            "enter your numerical score56\n",
            "F\n",
            "your grade is: 56.0\n"
          ]
        }
      ]
    },
    {
      "cell_type": "code",
      "source": [
        "radius = float(input(\"what is the radius of the cirlce?\"))\n",
        "area = 3.14*radius**2\n",
        "print(area)"
      ],
      "metadata": {
        "id": "fav-sl7FJk2-",
        "outputId": "aa785561-1fb1-4ebc-e29c-e1851ad295e2",
        "colab": {
          "base_uri": "https://localhost:8080/"
        }
      },
      "execution_count": 7,
      "outputs": [
        {
          "output_type": "stream",
          "name": "stdout",
          "text": [
            "what is the radius of the cirlce?3\n",
            "28.26\n"
          ]
        }
      ]
    },
    {
      "cell_type": "code",
      "source": [],
      "metadata": {
        "id": "yq1SujkOH0Ju"
      },
      "execution_count": 7,
      "outputs": []
    },
    {
      "cell_type": "code",
      "source": [
        "name = input(\"enter your name\")\n",
        "print(name)"
      ],
      "metadata": {
        "id": "rXy41RgcIdS_",
        "outputId": "f03837ad-7865-432c-f07a-c53f3b3902ef",
        "colab": {
          "base_uri": "https://localhost:8080/"
        }
      },
      "execution_count": 8,
      "outputs": [
        {
          "output_type": "stream",
          "name": "stdout",
          "text": [
            "enter your nameiwan\n",
            "iwan\n"
          ]
        }
      ]
    },
    {
      "cell_type": "code",
      "source": [],
      "metadata": {
        "id": "Mr-Kwi6GQh5O"
      },
      "execution_count": null,
      "outputs": []
    },
    {
      "cell_type": "markdown",
      "metadata": {
        "id": "zZ7qkqs_GlMY"
      },
      "source": [
        "---"
      ]
    },
    {
      "cell_type": "code",
      "source": [
        "print ('iwan')\n"
      ],
      "metadata": {
        "id": "VVxoCm6EHCfH",
        "outputId": "e5407a4b-4881-4e2f-dc69-6ce3f281de40",
        "colab": {
          "base_uri": "https://localhost:8080/"
        }
      },
      "execution_count": 9,
      "outputs": [
        {
          "output_type": "stream",
          "name": "stdout",
          "text": [
            "iwan\n"
          ]
        }
      ]
    },
    {
      "cell_type": "markdown",
      "metadata": {
        "id": "-kd4DemdGlMZ"
      },
      "source": [
        "## Course Structure\n",
        "* Before the **consolidation week**: python fundamentals and essentials specific for **big data** applications.\n",
        "    * 2 classes per week, 2 hours each class. <u>N.b. Each class will cover it's own topic. Meaning, Thursday class is **not** a repetition of a content from Monday.</u>\n",
        "* After the **consolidation week**: principles of Big Data / Machine Learning / Data Mining: 2 hours of tutorials, 2 hours of drop-in.\n",
        "    * Image recognition using the Convolution Neural Network (CNN)\n",
        "    * Models for numerical data analysis (regression and classification tasks): Statitics, Linear Regression, Logistic Regression, Decision Tree, Ensemble Techniques\n",
        "    * Time series\n",
        "* If we have time (and energy) left: Model deployment using Flask, Streamlit, Heroku and/or Render.\n",
        "<br>\n",
        "<br>\n",
        "In **tut_1.1** the 1<sup>st</sup> is the week number; the 2<sup>nd</sup> number is the lecture of the week. Each tutorial has dedicated Jupyter notebook.\n",
        "\n"
      ]
    },
    {
      "cell_type": "markdown",
      "metadata": {
        "id": "QIwVUSFpGlMZ"
      },
      "source": [
        "## Assessment\n",
        "1. Set of exercises: **20%**\n",
        "2. Course work: **80%**\n",
        "<br>\n",
        "<br>\n",
        "Submission dates: **t.b.d.**\n"
      ]
    },
    {
      "cell_type": "markdown",
      "metadata": {
        "id": "ibOYUHR-GlMZ"
      },
      "source": [
        "---\n",
        "---"
      ]
    },
    {
      "cell_type": "markdown",
      "metadata": {
        "id": "P8dbJuRCGlMZ"
      },
      "source": [
        "## <u>First thing first: setting up working/coding environment</u>\n",
        "### **[https://github.com/](https://github.com/)**"
      ]
    },
    {
      "cell_type": "markdown",
      "metadata": {
        "id": "L5veKSGNGlMZ"
      },
      "source": [
        "## Create GitHub repository\n",
        "* Give sensible name\n",
        "* Make it public\n",
        "* Add README\n",
        "* Add .gitignore from Python template\n",
        "* Licence is not required\n",
        "*You can customise your page later by adding photo, bio etc.*\n",
        "\n",
        "Do not login using your Google profile. Create a proper password and memorise it or write it down. You will need this password to provide third-party services access to your github account."
      ]
    },
    {
      "cell_type": "markdown",
      "metadata": {
        "id": "-P0SNmy8GlMZ"
      },
      "source": [
        "---"
      ]
    },
    {
      "cell_type": "markdown",
      "metadata": {
        "id": "npQYmS_cGlMZ"
      },
      "source": [
        "## Create codespace (follow in-class instructions)"
      ]
    },
    {
      "cell_type": "markdown",
      "metadata": {
        "id": "WOCbG806GlMZ"
      },
      "source": [
        "---"
      ]
    },
    {
      "cell_type": "markdown",
      "metadata": {
        "id": "HxTCmgXaGlMZ"
      },
      "source": [
        "## `.gitignore` file"
      ]
    },
    {
      "cell_type": "markdown",
      "metadata": {
        "id": "hsUvDFmjGlMa"
      },
      "source": [
        "---"
      ]
    },
    {
      "cell_type": "markdown",
      "metadata": {
        "id": "dPnM83LNGlMa"
      },
      "source": [
        "## Create and activate virtual environment (follow in-class instructions)"
      ]
    },
    {
      "cell_type": "markdown",
      "metadata": {
        "id": "Nd5JWB1TGlMa"
      },
      "source": [
        "---"
      ]
    },
    {
      "cell_type": "markdown",
      "metadata": {
        "id": "ZqrCvfqXGlMa"
      },
      "source": [
        "## Create `jupyter_notebooks` folder\n",
        "In this folder, create your 1<sup>st</sup> jupyter notebook. Use sensible name. It is recommended to create a notebook per tutorial. **Important**: <u>file name must have an extention **.ipynb**</u>\n",
        "\n",
        "In the file tab of VS Code select 'autosave'\n",
        "\n",
        "Select Kernel (follow in-class instructions)\n",
        "\n",
        "Upon the first `Code` cell execution, you will be asked to install Python kernel. Follow the in-class instructions (installation can take a while).\n",
        "\n",
        "*The name of the **Jupyter** project is the melt of names of three supported languages: <u>Julia, Python and R</u>. Jupyter notebook can also be run via Jupyter project, Anaconda or Google Colab*. VS Code is a universal IDE, can handle any other programming language and we are going to use it in this course."
      ]
    },
    {
      "cell_type": "markdown",
      "metadata": {
        "id": "M734nr5BGlMa"
      },
      "source": [
        "---"
      ]
    },
    {
      "cell_type": "markdown",
      "metadata": {
        "id": "JzMbfKHuGlMa"
      },
      "source": [
        "## Markdown syntax"
      ]
    },
    {
      "cell_type": "markdown",
      "metadata": {
        "id": "LoXLijIbGlMa"
      },
      "source": [
        "---"
      ]
    },
    {
      "cell_type": "markdown",
      "metadata": {
        "id": "X3fCzGkVGlMb"
      },
      "source": [
        "## What is 'Big Data' and why do we need it?"
      ]
    },
    {
      "cell_type": "markdown",
      "metadata": {
        "id": "mp3FIxMHGlMb"
      },
      "source": [
        "---"
      ]
    },
    {
      "cell_type": "markdown",
      "metadata": {
        "id": "UsEOj3kcGlMb"
      },
      "source": [
        "## Why Python?\n",
        "* High-level programming language\n",
        "* Very clear syntax\n",
        "* Interpreted\n",
        "* Dynamically typed\n",
        "* Abundance of libraries for data handling, visualisation and modelling (we do not have much choice when it comes to data handling and machine learning)"
      ]
    },
    {
      "cell_type": "markdown",
      "metadata": {
        "id": "k2H-ZHejGlMb"
      },
      "source": [
        "---"
      ]
    },
    {
      "cell_type": "markdown",
      "metadata": {
        "id": "cIRL_aRlGlMb"
      },
      "source": [
        "## Libraries, modules and frameworks\n",
        "![Numpy](https://img.icons8.com/?size=100&id=aR9CXyMagKIS&format=png&color=000000)<br>\n",
        "![Pandas](https://img.icons8.com/?size=100&id=xSkewUSqtErH&format=png&color=000000)<br>\n",
        "![TensorFlow](https://img.icons8.com/?size=100&id=n3QRpDA7KZ7P&format=png&color=000000)<br>\n",
        "![Django](https://img.icons8.com/?size=100&id=qV-JzWYl9dzP&format=png&color=000000)"
      ]
    },
    {
      "cell_type": "markdown",
      "metadata": {
        "id": "ClIDEfQ1GlMc"
      },
      "source": [
        "---"
      ]
    },
    {
      "cell_type": "markdown",
      "metadata": {
        "id": "thjpocDZGlMc"
      },
      "source": [
        "## 1<sup>st</sup> look at Python code"
      ]
    },
    {
      "cell_type": "code",
      "execution_count": 10,
      "metadata": {
        "id": "E1DqaJzvGlMc"
      },
      "outputs": [],
      "source": [
        "import os  # import libraries\n",
        "\n",
        "def remove_non_image_file(my_data_dir):\n",
        "    \"\"\"\n",
        "    Checks files in defined folder and removes those which are not images.\n",
        "    \"\"\"\n",
        "    image_extension = ('.png', '.jpg', '.jpeg')\n",
        "    folders = os.listdir(my_data_dir)\n",
        "    for folder in folders:\n",
        "        files = os.listdir(os.path.join(my_data_dir, folder))\n",
        "        i = []\n",
        "        j = []\n",
        "        for given_file in files:\n",
        "            if not given_file.lower().endswith(image_extension):\n",
        "                file_location = os.path.join(my_data_dir, folder, given_file)\n",
        "                print(file_location)\n",
        "                os.remove(file_location)  # remove non image file\n",
        "                i.append(1)\n",
        "            else:\n",
        "                j.append(1)\n",
        "                pass\n",
        "        print(f\"Folder: {folder} - has image file\", len(j))\n",
        "        print(f\"Folder: {folder} - has non-image file\", len(i))"
      ]
    },
    {
      "cell_type": "markdown",
      "metadata": {
        "id": "I5WL7RdbGlMc"
      },
      "source": [
        "* `import` is always on top\n",
        "* **tab** sensitive. Do not use 4 times spaces!!! Just **tab**\n",
        "* naming_convention for variables:\n",
        "    * no spaces\n",
        "    * no reserved words\n",
        "    * no numbers as a first character\n",
        "* comments and docstrings: good practice to think of those who will read your code"
      ]
    },
    {
      "cell_type": "markdown",
      "metadata": {
        "id": "DSEEIB-rGlMc"
      },
      "source": [
        "---"
      ]
    },
    {
      "cell_type": "markdown",
      "metadata": {
        "id": "1Jk9WrKPGlMc"
      },
      "source": [
        "## 'End of session' routine\n",
        "* `git add --all`\n",
        "* `git commit -m \"commit message\"`\n",
        "* `git push`\n",
        "\n",
        "(Sendint a parcel)\n",
        "\n",
        "`git status` - to see commit status (check uncommitted changes of your project)\n"
      ]
    },
    {
      "cell_type": "markdown",
      "metadata": {
        "id": "F3K1U9sQGlMc"
      },
      "source": [
        "---"
      ]
    },
    {
      "cell_type": "markdown",
      "metadata": {
        "id": "MsRz4N5TGlMd"
      },
      "source": [
        "## DRY"
      ]
    },
    {
      "cell_type": "markdown",
      "metadata": {
        "id": "i-ExpLhpGlMd"
      },
      "source": [
        "---"
      ]
    },
    {
      "cell_type": "markdown",
      "metadata": {
        "id": "TTGB75_XGlMd"
      },
      "source": [
        "## Errors"
      ]
    },
    {
      "cell_type": "markdown",
      "metadata": {
        "id": "Ym7L9-K_GlMd"
      },
      "source": [
        "---"
      ]
    },
    {
      "cell_type": "markdown",
      "metadata": {
        "id": "xIt4CTGOGlMd"
      },
      "source": [
        "### `print()` statement"
      ]
    },
    {
      "cell_type": "code",
      "execution_count": 11,
      "metadata": {
        "id": "XJ9bj2EbGlMd",
        "outputId": "866702fd-ad7f-4306-d294-ef03299a2ea8",
        "colab": {
          "base_uri": "https://localhost:8080/"
        }
      },
      "outputs": [
        {
          "output_type": "stream",
          "name": "stdout",
          "text": [
            "test message\n",
            "4\n",
            "Today is Monday\n"
          ]
        }
      ],
      "source": [
        "print(\"test message\")  # Printing string\n",
        "print(2 + 2) # Printing result of equation\n",
        "week_day = \"Monday\"\n",
        "print(f\"Today is {week_day}\")  # String literals"
      ]
    },
    {
      "cell_type": "markdown",
      "metadata": {
        "id": "agcx5N06GlMd"
      },
      "source": [
        "### Declaring variables\n",
        "`=` assignment operator"
      ]
    },
    {
      "cell_type": "code",
      "execution_count": 12,
      "metadata": {
        "id": "ho497V9rGlMd"
      },
      "outputs": [],
      "source": [
        "a = 5  # think of it as a storage box\n",
        "my_name = \"Sergey\"\n",
        "my_object = {\n",
        "    \"flat\": 20,\n",
        "    \"type\": \"residential\"\n",
        "}\n",
        "my_list = [3, 5, 6.4]"
      ]
    },
    {
      "cell_type": "markdown",
      "metadata": {
        "id": "sYXJmysAGlMe"
      },
      "source": [
        "### Data type"
      ]
    },
    {
      "cell_type": "markdown",
      "metadata": {
        "id": "4NxOo6n2GlMe"
      },
      "source": [
        "![Data type](https://github.com/Nolan9iwan/m32895-public/blob/main/assets/img/data_type.png?raw=1)\n",
        "\n",
        "###### Sourse: Python essentials by [Code Institute](https://codeinstitute.net/)"
      ]
    },
    {
      "cell_type": "code",
      "execution_count": 13,
      "metadata": {
        "id": "3EZodwNcGlMe",
        "outputId": "d4980770-c594-4d54-91f1-e110acdc4f77",
        "colab": {
          "base_uri": "https://localhost:8080/"
        }
      },
      "outputs": [
        {
          "output_type": "stream",
          "name": "stdout",
          "text": [
            "<class 'str'>\n",
            "<class 'int'>\n",
            "<class 'float'>\n",
            "<class 'complex'>\n",
            "<class 'list'>\n",
            "<class 'tuple'>\n",
            "<class 'range'>\n",
            "<class 'dict'>\n",
            "<class 'set'>\n",
            "<class 'bool'>\n",
            "False\n"
          ]
        }
      ],
      "source": [
        "print(type(\"Hello, World!\"))\n",
        "print(type(42))\n",
        "print(type(3.145))\n",
        "print(type(1j))\n",
        "print(type([\"egg\", \"bacon\", \"spam\"]))\n",
        "print(type((\"egg\", \"bacon\", \"spam\")))\n",
        "print(type(range(6)))\n",
        "print(type({\"name\" : \"John\", \"age\" : 80}))\n",
        "print(type({\"egg\", \"bacon\", \"spam\"}))\n",
        "print(type(True))\n",
        "print(isinstance(3.14, int))\n"
      ]
    },
    {
      "cell_type": "markdown",
      "metadata": {
        "id": "PNGauKKqGlMe"
      },
      "source": [
        "### String"
      ]
    },
    {
      "cell_type": "code",
      "execution_count": 14,
      "metadata": {
        "id": "Za1aeMouGlMe",
        "outputId": "1f7eb2e3-3bef-43b8-ee04-8a8ca4d5df0a",
        "colab": {
          "base_uri": "https://localhost:8080/"
        }
      },
      "outputs": [
        {
          "output_type": "stream",
          "name": "stdout",
          "text": [
            "Then Mike said 'What is that?'\n",
            "It's a beautiful day\n"
          ]
        }
      ],
      "source": [
        "print(\"Then Mike said 'What is that?'\") # Note: usage of double and single quotes\n",
        "print(\"It's a beautiful day\")"
      ]
    },
    {
      "cell_type": "markdown",
      "metadata": {
        "id": "QvYVkxyYGlMe"
      },
      "source": [
        "### Functions for converting between data types"
      ]
    },
    {
      "cell_type": "code",
      "execution_count": 15,
      "metadata": {
        "id": "KoimVxrkGlMe",
        "outputId": "39c0902f-e7bc-4ad2-8fe4-1f97240c3d6e",
        "colab": {
          "base_uri": "https://localhost:8080/",
          "height": 211
        }
      },
      "outputs": [
        {
          "output_type": "error",
          "ename": "TypeError",
          "evalue": "hex() takes exactly one argument (0 given)",
          "traceback": [
            "\u001b[0;31m---------------------------------------------------------------------------\u001b[0m",
            "\u001b[0;31mTypeError\u001b[0m                                 Traceback (most recent call last)",
            "\u001b[0;32m<ipython-input-15-c6b4e8eadafa>\u001b[0m in \u001b[0;36m<cell line: 0>\u001b[0;34m()\u001b[0m\n\u001b[1;32m      1\u001b[0m \u001b[0mint\u001b[0m\u001b[0;34m(\u001b[0m\u001b[0;34m)\u001b[0m  \u001b[0;31m# Converts to an integer\u001b[0m\u001b[0;34m\u001b[0m\u001b[0;34m\u001b[0m\u001b[0m\n\u001b[1;32m      2\u001b[0m \u001b[0mfloat\u001b[0m\u001b[0;34m(\u001b[0m\u001b[0;34m)\u001b[0m  \u001b[0;31m# Converts to a floating-point number\u001b[0m\u001b[0;34m\u001b[0m\u001b[0;34m\u001b[0m\u001b[0m\n\u001b[0;32m----> 3\u001b[0;31m \u001b[0mhex\u001b[0m\u001b[0;34m(\u001b[0m\u001b[0;34m)\u001b[0m  \u001b[0;31m# Converts a number to a hexadecimal string\u001b[0m\u001b[0;34m\u001b[0m\u001b[0;34m\u001b[0m\u001b[0m\n\u001b[0m\u001b[1;32m      4\u001b[0m \u001b[0moct\u001b[0m\u001b[0;34m(\u001b[0m\u001b[0;34m)\u001b[0m  \u001b[0;31m# Converts a number to a octal string\u001b[0m\u001b[0;34m\u001b[0m\u001b[0;34m\u001b[0m\u001b[0m\n\u001b[1;32m      5\u001b[0m \u001b[0mtuple\u001b[0m\u001b[0;34m(\u001b[0m\u001b[0;34m)\u001b[0m  \u001b[0;31m#Converts to a tuple\u001b[0m\u001b[0;34m\u001b[0m\u001b[0;34m\u001b[0m\u001b[0m\n",
            "\u001b[0;31mTypeError\u001b[0m: hex() takes exactly one argument (0 given)"
          ]
        }
      ],
      "source": [
        "int()  # Converts to an integer\n",
        "float()  # Converts to a floating-point number\n",
        "hex()  # Converts a number to a hexadecimal string\n",
        "oct()  # Converts a number to a octal string\n",
        "tuple()  #Converts to a tuple\n",
        "set()  # Converts to a set\n",
        "list()  # Converts to a list\n",
        "dict()  # Converts a tuple into a dictionary\n",
        "str()  # Converts a number into a string"
      ]
    },
    {
      "cell_type": "markdown",
      "metadata": {
        "id": "ls7r5OToGlMe"
      },
      "source": [
        "### Python arithmetic operators"
      ]
    },
    {
      "cell_type": "markdown",
      "metadata": {
        "id": "tCJvTHi_GlMe"
      },
      "source": [
        "![Python arythmetic operators](https://github.com/Nolan9iwan/m32895-public/blob/main/assets/img/arythmetic_operators.png?raw=1)\n",
        "###### Sourse: Python essentials by [Code Institute](https://codeinstitute.net/)"
      ]
    },
    {
      "cell_type": "markdown",
      "metadata": {
        "id": "sYGL9nSAGlMe"
      },
      "source": [
        "### String methods\n",
        "N.b. Difference in usage of function and method."
      ]
    },
    {
      "cell_type": "code",
      "execution_count": null,
      "metadata": {
        "id": "kCgymApzGlMe"
      },
      "outputs": [],
      "source": [
        "my_string = \"test value\"\n",
        "\n",
        "my_string.capitalize()  # Capitalizes the first character of the string\n",
        "my_string.center()  # Centers string\n",
        "my_string.count()  # Returns a count of times a specified value occurs in the string\n",
        "my_string.encode()  # Returns an encoded version of the string (use decode() to decode)\n",
        "my_string.endswith()  # Returns True if the string ends with a specified suffix\n",
        "my_string.expandtabs()  # Sets the tab size in spaces of the string\n",
        "my_string.find()  # Returns the lowest index position of where a specified character was found\n",
        "my_string.index()  # Searches for a specified value and returns the position of where it was found or an error if not found\n",
        "my_string.isalnum()  # Returns True if all characters are alphanumeric\n",
        "my_string.isalpha()  # Returns True if all characters are alphabetic\n",
        "my_string.isdigit()  # Returns True if all characters are digits\n",
        "my_string.islower()  # Returns True if all characters are lower case\n",
        "my_string.isspace()  # Returns True if all characters are whitespace\n",
        "my_string.istitle()  # Returns True if the string is titlecased\n",
        "my_string.isupper()  # Returns True if all characters in the string are upper case\n",
        "my_string.join()  # concatenates string\n",
        "my_string.ljust()  # Returns a left justified version of the string\n",
        "my_string.lower()  # Converts a string into lower case\n",
        "my_string.lstrip()  # Returns a left trim version of the string\n",
        "my_string.partition()  # Returns a tuple where the string is parted into two strings and the separator\n",
        "my_string.replace()  # Returns a string where a old value is replaced with a new value\n",
        "my_string.rfind()  # Searches highest index in the string for a specified value\n",
        "my_string.rindex()  # Same but with error if nothing found\n",
        "my_string.rjust()  # Returns a right justified version of the string\n",
        "my_string.rpartition()  # Returns a tuple where the string is parted into three parts\n",
        "my_string.rsplit()  # Splits the string at the specified separator, and returns a list\n",
        "my_string.rstrip()  # Returns a right trim version of the string\n",
        "my_string.split()  # Splits the string at the specified separator, and returns a list\n",
        "my_string.splitlines()  # Splits the string at line breaks and returns a list\n",
        "my_string.startswith()  # Returns true if the string starts with the specified value\n",
        "my_string.strip()  # Returns a trimmed version of the string\n",
        "my_string.swapcase()  # Swaps cases, lower case becomes upper case and vice versa\n",
        "my_string.title()  # Converts the first character of each word to upper case\n",
        "my_string.translate()  # Returns a translated string\n",
        "my_string.upper()  # Converts a string into uppercase\n",
        "my_string.zfill()  # Fills the string with a specified number of 0 values at the beginning"
      ]
    },
    {
      "cell_type": "markdown",
      "metadata": {
        "id": "eh242ebMGlMf"
      },
      "source": [
        "### Comparison operators\n"
      ]
    },
    {
      "cell_type": "code",
      "execution_count": null,
      "metadata": {
        "id": "idmhV64JGlMf"
      },
      "outputs": [],
      "source": [
        "print('Hello, World!' == 'Hello, World!')\n",
        "print(2!=2)\n",
        "print([1,2]<[1,2,3])\n",
        "print(float(2)>=int(2))\n",
        "print('a'<'A') #This is False as 'a' is Unicode 97 where 'A' is 65\n"
      ]
    },
    {
      "cell_type": "markdown",
      "metadata": {
        "id": "cTsS_LfyGlMf"
      },
      "source": [
        "### Logical operators\n",
        "Priority:\n",
        "1. not\n",
        "2. and\n",
        "3. or"
      ]
    },
    {
      "cell_type": "code",
      "execution_count": null,
      "metadata": {
        "id": "S7wxJo6rGlMf"
      },
      "outputs": [],
      "source": [
        "print(True and True)\n",
        "print(True and False)\n",
        "print(True or False)\n",
        "print(not (4 < 5 and 4 < 10))"
      ]
    },
    {
      "cell_type": "markdown",
      "metadata": {
        "id": "Y5104D95GlMf"
      },
      "source": [
        "### If-Else statements"
      ]
    },
    {
      "cell_type": "markdown",
      "metadata": {
        "id": "4MYN-fWwGlMf"
      },
      "source": [
        "Boolean logic checked by `if` and `else` statements - **flow control by decision making**.\n",
        "\n",
        "![if-else statement](https://github.com/Nolan9iwan/m32895-public/blob/main/assets/img/if_else.png?raw=1)\n",
        "\n",
        "###### Sourse: Python essentials by [Code Institute](https://codeinstitute.net/)"
      ]
    },
    {
      "cell_type": "code",
      "execution_count": null,
      "metadata": {
        "id": "ouB5cLsaGlMf"
      },
      "outputs": [],
      "source": [
        "number = int(input(\"Enter a number:\"))  # input() function\n",
        "\n",
        "if number == 10:\n",
        "    print(f\"{number} is equal to 10\")\n",
        "else:\n",
        "    print(f\"{number} is not equal to 10\")\n",
        "\n",
        "    # Note: formatting of the snippet\n",
        "    # !! if-else statement can be nested !! This will be important for an in-class exersise."
      ]
    },
    {
      "cell_type": "markdown",
      "metadata": {
        "id": "dd7jLu6zGlMf"
      },
      "source": [
        "---"
      ]
    },
    {
      "cell_type": "markdown",
      "metadata": {
        "id": "n2Hr3pPiGlMf"
      },
      "source": [
        "## In-class exercise: Movie ticket price calculator\n",
        "#### Objective:\n",
        "Practice using print statements, logical operators, string methods, data type conversion, and `if-else` statements.\n",
        "#### Scenario:\n",
        "The cinema charges different prices based on the customer's age:\n",
        "* Children (0-5 years old): Free\n",
        "* Kids (6-12 years old): $5\n",
        "* Teens (13-17 years old): $8\n",
        "* Adults (18-59 years old): $12\n",
        "* Seniors (60+ years old): Free\n",
        "Your task is to ask the user for their age, determine the correct ticket price, and display it.\n",
        "#### Instructions:\n",
        "1. Prompt the user to enter their age.\n",
        "2. Convert the input to an integer (handle input correctly).\n",
        "3. Use if and else statements to determine the ticket price.\n",
        "4. Print a message displaying the user's age and the corresponding ticket price.\n",
        "5. Use string methods (e.g., .strip(), but not compulsory) to clean up user input.\n"
      ]
    },
    {
      "cell_type": "markdown",
      "metadata": {
        "id": "hcIAJQR0GlMg"
      },
      "source": [
        "### Solution"
      ]
    },
    {
      "cell_type": "code",
      "execution_count": null,
      "metadata": {
        "id": "pMdpvZFdGlMg"
      },
      "outputs": [],
      "source": [
        "# Ask the user for their age\n",
        "age = input(\"Enter your age: \").strip()\n",
        "\n",
        "# Convert age to integer\n",
        "age = int(age)\n",
        "\n",
        "# Determine the ticket price using only if-else statements\n",
        "if age <= 5:\n",
        "    price = \"free!\"\n",
        "else:\n",
        "    if age <= 12:\n",
        "        price = \"$5\"\n",
        "    else:\n",
        "        if age <= 17:\n",
        "            price = \"$8\"\n",
        "        else:\n",
        "            if age <= 59:\n",
        "                price = \"$12\"\n",
        "            else:\n",
        "                price = \"free!\"\n",
        "\n",
        "# Print the result\n",
        "print(f\"Since you are {age} years old, your ticket price is {price}.\")\n"
      ]
    },
    {
      "cell_type": "markdown",
      "metadata": {
        "id": "35ELwIupGlMg"
      },
      "source": [
        "---"
      ]
    },
    {
      "cell_type": "markdown",
      "metadata": {
        "id": "9H8QQJwUGlMg"
      },
      "source": [
        "## Homework\n",
        "* Study the structure and options of [GitHub](https://github.com/)\n",
        "* Get familiar with VS Code codespace\n",
        "* Get familiar with Jupyter Notebook\n",
        "* Get familiar with markdown synthax"
      ]
    },
    {
      "cell_type": "markdown",
      "metadata": {
        "id": "eGlFShUPGlMg"
      },
      "source": []
    }
  ],
  "metadata": {
    "kernelspec": {
      "display_name": "venv",
      "language": "python",
      "name": "python3"
    },
    "language_info": {
      "codemirror_mode": {
        "name": "ipython",
        "version": 3
      },
      "file_extension": ".py",
      "mimetype": "text/x-python",
      "name": "python",
      "nbconvert_exporter": "python",
      "pygments_lexer": "ipython3",
      "version": "3.12.8"
    },
    "colab": {
      "provenance": []
    }
  },
  "nbformat": 4,
  "nbformat_minor": 0
}